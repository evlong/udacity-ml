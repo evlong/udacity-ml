{
 "cells": [
  {
   "cell_type": "markdown",
   "metadata": {},
   "source": [
    "# Data Pre-Processing"
   ]
  },
  {
   "cell_type": "code",
   "execution_count": 6,
   "metadata": {
    "collapsed": true
   },
   "outputs": [],
   "source": [
    "import pandas as pd\n",
    "import json\n",
    "import re\n",
    "import numpy as np\n",
    "from collections import Counter\n",
    "import string\n",
    "from nltk.tokenize import RegexpTokenizer,TweetTokenizer"
   ]
  },
  {
   "cell_type": "code",
   "execution_count": 2,
   "metadata": {
    "collapsed": true
   },
   "outputs": [],
   "source": [
    "import os\n",
    "import pickle\n",
    "os.getcwd()\n",
    "data_location=\"/home/ubuntu/data/\""
   ]
  },
  {
   "cell_type": "markdown",
   "metadata": {},
   "source": [
    "Read data"
   ]
  },
  {
   "cell_type": "code",
   "execution_count": 29,
   "metadata": {
    "collapsed": true
   },
   "outputs": [],
   "source": [
    "col_names=['tag','id','date','query','user','text']\n",
    "df_train=pd.read_csv('/home/ubuntu/data/training.1600000.processed.noemoticon.csv',\n",
    "                  names=col_names, header=None)"
   ]
  },
  {
   "cell_type": "markdown",
   "metadata": {},
   "source": [
    "Check what data looks like"
   ]
  },
  {
   "cell_type": "code",
   "execution_count": 30,
   "metadata": {
    "collapsed": false
   },
   "outputs": [
    {
     "data": {
      "text/html": [
       "<div>\n",
       "<style>\n",
       "    .dataframe thead tr:only-child th {\n",
       "        text-align: right;\n",
       "    }\n",
       "\n",
       "    .dataframe thead th {\n",
       "        text-align: left;\n",
       "    }\n",
       "\n",
       "    .dataframe tbody tr th {\n",
       "        vertical-align: top;\n",
       "    }\n",
       "</style>\n",
       "<table border=\"1\" class=\"dataframe\">\n",
       "  <thead>\n",
       "    <tr style=\"text-align: right;\">\n",
       "      <th></th>\n",
       "      <th>tag</th>\n",
       "      <th>id</th>\n",
       "      <th>date</th>\n",
       "      <th>query</th>\n",
       "      <th>user</th>\n",
       "      <th>text</th>\n",
       "    </tr>\n",
       "  </thead>\n",
       "  <tbody>\n",
       "    <tr>\n",
       "      <th>0</th>\n",
       "      <td>0</td>\n",
       "      <td>1467810369</td>\n",
       "      <td>Mon Apr 06 22:19:45 PDT 2009</td>\n",
       "      <td>NO_QUERY</td>\n",
       "      <td>_TheSpecialOne_</td>\n",
       "      <td>@switchfoot http://twitpic.com/2y1zl - Awww, that's a bummer.  You shoulda got David Carr of Third Day to do it. ;D</td>\n",
       "    </tr>\n",
       "    <tr>\n",
       "      <th>1</th>\n",
       "      <td>0</td>\n",
       "      <td>1467810672</td>\n",
       "      <td>Mon Apr 06 22:19:49 PDT 2009</td>\n",
       "      <td>NO_QUERY</td>\n",
       "      <td>scotthamilton</td>\n",
       "      <td>is upset that he can't update his Facebook by texting it... and might cry as a result  School today also. Blah!</td>\n",
       "    </tr>\n",
       "    <tr>\n",
       "      <th>2</th>\n",
       "      <td>0</td>\n",
       "      <td>1467810917</td>\n",
       "      <td>Mon Apr 06 22:19:53 PDT 2009</td>\n",
       "      <td>NO_QUERY</td>\n",
       "      <td>mattycus</td>\n",
       "      <td>@Kenichan I dived many times for the ball. Managed to save 50%  The rest go out of bounds</td>\n",
       "    </tr>\n",
       "    <tr>\n",
       "      <th>3</th>\n",
       "      <td>0</td>\n",
       "      <td>1467811184</td>\n",
       "      <td>Mon Apr 06 22:19:57 PDT 2009</td>\n",
       "      <td>NO_QUERY</td>\n",
       "      <td>ElleCTF</td>\n",
       "      <td>my whole body feels itchy and like its on fire</td>\n",
       "    </tr>\n",
       "    <tr>\n",
       "      <th>4</th>\n",
       "      <td>0</td>\n",
       "      <td>1467811193</td>\n",
       "      <td>Mon Apr 06 22:19:57 PDT 2009</td>\n",
       "      <td>NO_QUERY</td>\n",
       "      <td>Karoli</td>\n",
       "      <td>@nationwideclass no, it's not behaving at all. i'm mad. why am i here? because I can't see you all over there.</td>\n",
       "    </tr>\n",
       "  </tbody>\n",
       "</table>\n",
       "</div>"
      ],
      "text/plain": [
       "   tag          id                          date     query             user  \\\n",
       "0  0    1467810369  Mon Apr 06 22:19:45 PDT 2009  NO_QUERY  _TheSpecialOne_   \n",
       "1  0    1467810672  Mon Apr 06 22:19:49 PDT 2009  NO_QUERY  scotthamilton     \n",
       "2  0    1467810917  Mon Apr 06 22:19:53 PDT 2009  NO_QUERY  mattycus          \n",
       "3  0    1467811184  Mon Apr 06 22:19:57 PDT 2009  NO_QUERY  ElleCTF           \n",
       "4  0    1467811193  Mon Apr 06 22:19:57 PDT 2009  NO_QUERY  Karoli            \n",
       "\n",
       "                                                                                                                  text  \n",
       "0  @switchfoot http://twitpic.com/2y1zl - Awww, that's a bummer.  You shoulda got David Carr of Third Day to do it. ;D  \n",
       "1  is upset that he can't update his Facebook by texting it... and might cry as a result  School today also. Blah!      \n",
       "2  @Kenichan I dived many times for the ball. Managed to save 50%  The rest go out of bounds                            \n",
       "3  my whole body feels itchy and like its on fire                                                                       \n",
       "4  @nationwideclass no, it's not behaving at all. i'm mad. why am i here? because I can't see you all over there.       "
      ]
     },
     "execution_count": 30,
     "metadata": {},
     "output_type": "execute_result"
    }
   ],
   "source": [
    "df_train.head()"
   ]
  },
  {
   "cell_type": "markdown",
   "metadata": {},
   "source": [
    "Check data distribution"
   ]
  },
  {
   "cell_type": "code",
   "execution_count": 13,
   "metadata": {
    "collapsed": false
   },
   "outputs": [
    {
     "data": {
      "text/plain": [
       "tag\n",
       "0    800000\n",
       "4    800000\n",
       "dtype: int64"
      ]
     },
     "execution_count": 13,
     "metadata": {},
     "output_type": "execute_result"
    }
   ],
   "source": [
    "df_train.groupby(['tag']).size()"
   ]
  },
  {
   "cell_type": "markdown",
   "metadata": {},
   "source": [
    "Check test data"
   ]
  },
  {
   "cell_type": "code",
   "execution_count": 3,
   "metadata": {
    "collapsed": false
   },
   "outputs": [
    {
     "name": "stdout",
     "output_type": "stream",
     "text": [
      "498\n"
     ]
    }
   ],
   "source": [
    "col_names=['tag','id','date','query','user','text']\n",
    "df_test=pd.read_csv('/home/ubuntu/data/testdata.manual.2009.06.14.csv',names=col_names, header=None)\n",
    "df_test.groupby(['tag']).size()\n",
    "print(len(df_test))"
   ]
  },
  {
   "cell_type": "code",
   "execution_count": 4,
   "metadata": {
    "collapsed": false
   },
   "outputs": [
    {
     "data": {
      "text/html": [
       "<div>\n",
       "<style>\n",
       "    .dataframe thead tr:only-child th {\n",
       "        text-align: right;\n",
       "    }\n",
       "\n",
       "    .dataframe thead th {\n",
       "        text-align: left;\n",
       "    }\n",
       "\n",
       "    .dataframe tbody tr th {\n",
       "        vertical-align: top;\n",
       "    }\n",
       "</style>\n",
       "<table border=\"1\" class=\"dataframe\">\n",
       "  <thead>\n",
       "    <tr style=\"text-align: right;\">\n",
       "      <th></th>\n",
       "      <th>tag</th>\n",
       "      <th>id</th>\n",
       "      <th>date</th>\n",
       "      <th>query</th>\n",
       "      <th>user</th>\n",
       "      <th>text</th>\n",
       "    </tr>\n",
       "  </thead>\n",
       "  <tbody>\n",
       "    <tr>\n",
       "      <th>0</th>\n",
       "      <td>4</td>\n",
       "      <td>3</td>\n",
       "      <td>Mon May 11 03:17:40 UTC 2009</td>\n",
       "      <td>kindle2</td>\n",
       "      <td>tpryan</td>\n",
       "      <td>@stellargirl I loooooooovvvvvveee my Kindle2. ...</td>\n",
       "    </tr>\n",
       "    <tr>\n",
       "      <th>1</th>\n",
       "      <td>4</td>\n",
       "      <td>4</td>\n",
       "      <td>Mon May 11 03:18:03 UTC 2009</td>\n",
       "      <td>kindle2</td>\n",
       "      <td>vcu451</td>\n",
       "      <td>Reading my kindle2...  Love it... Lee childs i...</td>\n",
       "    </tr>\n",
       "    <tr>\n",
       "      <th>2</th>\n",
       "      <td>4</td>\n",
       "      <td>5</td>\n",
       "      <td>Mon May 11 03:18:54 UTC 2009</td>\n",
       "      <td>kindle2</td>\n",
       "      <td>chadfu</td>\n",
       "      <td>Ok, first assesment of the #kindle2 ...it fuck...</td>\n",
       "    </tr>\n",
       "    <tr>\n",
       "      <th>3</th>\n",
       "      <td>4</td>\n",
       "      <td>6</td>\n",
       "      <td>Mon May 11 03:19:04 UTC 2009</td>\n",
       "      <td>kindle2</td>\n",
       "      <td>SIX15</td>\n",
       "      <td>@kenburbary You'll love your Kindle2. I've had...</td>\n",
       "    </tr>\n",
       "    <tr>\n",
       "      <th>4</th>\n",
       "      <td>4</td>\n",
       "      <td>7</td>\n",
       "      <td>Mon May 11 03:21:41 UTC 2009</td>\n",
       "      <td>kindle2</td>\n",
       "      <td>yamarama</td>\n",
       "      <td>@mikefish  Fair enough. But i have the Kindle2...</td>\n",
       "    </tr>\n",
       "  </tbody>\n",
       "</table>\n",
       "</div>"
      ],
      "text/plain": [
       "   tag  id                          date    query      user  \\\n",
       "0    4   3  Mon May 11 03:17:40 UTC 2009  kindle2    tpryan   \n",
       "1    4   4  Mon May 11 03:18:03 UTC 2009  kindle2    vcu451   \n",
       "2    4   5  Mon May 11 03:18:54 UTC 2009  kindle2    chadfu   \n",
       "3    4   6  Mon May 11 03:19:04 UTC 2009  kindle2     SIX15   \n",
       "4    4   7  Mon May 11 03:21:41 UTC 2009  kindle2  yamarama   \n",
       "\n",
       "                                                text  \n",
       "0  @stellargirl I loooooooovvvvvveee my Kindle2. ...  \n",
       "1  Reading my kindle2...  Love it... Lee childs i...  \n",
       "2  Ok, first assesment of the #kindle2 ...it fuck...  \n",
       "3  @kenburbary You'll love your Kindle2. I've had...  \n",
       "4  @mikefish  Fair enough. But i have the Kindle2...  "
      ]
     },
     "execution_count": 4,
     "metadata": {},
     "output_type": "execute_result"
    }
   ],
   "source": [
    "df_test.head()"
   ]
  },
  {
   "cell_type": "code",
   "execution_count": 9,
   "metadata": {
    "collapsed": true
   },
   "outputs": [],
   "source": [
    "df_train.to_pickle(\"/home/ubuntu/data/train_dataframe.pkl\")"
   ]
  },
  {
   "cell_type": "code",
   "execution_count": 3,
   "metadata": {
    "collapsed": true
   },
   "outputs": [],
   "source": [
    "df_train=pd.read_pickle(\"/home/ubuntu/data/train_dataframe.pkl\")"
   ]
  },
  {
   "cell_type": "code",
   "execution_count": 12,
   "metadata": {
    "collapsed": false
   },
   "outputs": [
    {
     "data": {
      "image/png": "[encoded data removed]",
      "text/plain": [
       "<matplotlib.figure.Figure at 0x7f899e4e5650>"
      ]
     },
     "metadata": {},
     "output_type": "display_data"
    }
   ],
   "source": [
    "import matplotlib.pyplot as plt\n",
    "df_train['len'] = [len(t) for t in df_train.text]\n",
    "fig, ax = plt.subplots(figsize=(5, 5))\n",
    "plt.boxplot(df_train.len)\n",
    "plt.title('Character count before data cleansing')\n",
    "plt.show()"
   ]
  },
  {
   "cell_type": "markdown",
   "metadata": {},
   "source": [
    "Data Cleansing:\n",
    "1. Remove Hyperlinks, unrecognised encodings\n",
    "2. Remove '...' and '..'\n",
    "2. Remove hashtag signs \n",
    "3. Remove UTF-8 BOM (Byte Order Mark)\n",
    "4. Tokenize, strip html encoding, Remove @user using Nltk's TweetTokenizer \n",
    "5. Remove punctuations (but not smiley faces etc.) "
   ]
  },
  {
   "cell_type": "code",
   "execution_count": 7,
   "metadata": {
    "collapsed": true
   },
   "outputs": [],
   "source": [
    "tweet_tokenizer=TweetTokenizer(preserve_case=False, strip_handles=True, reduce_len=True)\n",
    "\n",
    "def tweet_cleaner(sentence):\n",
    "    sentence=re.sub(r'https?://[A-Za-z0-9./]+|www.[A-Za-z0-9./]+|[\\x80-\\xFF]+','',sentence)\n",
    "    sentence2=re.sub(r'[..]|[...]',' ',sentence)\n",
    "    sentence3=sentence2.replace('#','').lower()\n",
    "    \n",
    "    try:\n",
    "        sentence4 = sentence3.decode(\"utf-8-sig\").replace(u\"\\ufffd\", \"?\")\n",
    "    except:\n",
    "        sentence4 = sentence3 \n",
    "    tokenized=tweet_tokenizer.tokenize(sentence4)\n",
    "    joined=' '.join(c for c in tokenized if c not in string.punctuation)\n",
    "    return joined"
   ]
  },
  {
   "cell_type": "code",
   "execution_count": 294,
   "metadata": {
    "collapsed": false
   },
   "outputs": [
    {
     "name": "stdout",
     "output_type": "stream",
     "text": [
      "Tweets 100000 of 1600000 has been processed\n",
      "Tweets 200000 of 1600000 has been processed\n",
      "Tweets 300000 of 1600000 has been processed\n",
      "Tweets 400000 of 1600000 has been processed\n",
      "Tweets 500000 of 1600000 has been processed\n",
      "Tweets 600000 of 1600000 has been processed\n",
      "Tweets 700000 of 1600000 has been processed\n",
      "Tweets 800000 of 1600000 has been processed\n",
      "Tweets 900000 of 1600000 has been processed\n",
      "Tweets 1000000 of 1600000 has been processed\n",
      "Tweets 1100000 of 1600000 has been processed\n",
      "Tweets 1200000 of 1600000 has been processed\n",
      "Tweets 1300000 of 1600000 has been processed\n",
      "Tweets 1400000 of 1600000 has been processed\n",
      "Tweets 1500000 of 1600000 has been processed\n",
      "Tweets 1600000 of 1600000 has been processed\n"
     ]
    }
   ],
   "source": [
    "num=[0,1600000]\n",
    "clean_texts=[]\n",
    "for i in xrange(num[0],num[1]):\n",
    "    if( (i+1)%100000 == 0 ):\n",
    "        print(\"Tweets %d of %d has been processed\" % ( i+1, num[1] )) \n",
    "    clean_texts.append(tweet_cleaner(df_train['text'][i]))"
   ]
  },
  {
   "cell_type": "code",
   "execution_count": 295,
   "metadata": {
    "collapsed": true
   },
   "outputs": [],
   "source": [
    "df_train_clean=pd.DataFrame(clean_texts,columns=['cleaned_text'])\n",
    "df_train_clean['tag']=df_train.tag"
   ]
  },
  {
   "cell_type": "code",
   "execution_count": 296,
   "metadata": {
    "collapsed": false
   },
   "outputs": [
    {
     "data": {
      "text/html": [
       "<div>\n",
       "<style>\n",
       "    .dataframe thead tr:only-child th {\n",
       "        text-align: right;\n",
       "    }\n",
       "\n",
       "    .dataframe thead th {\n",
       "        text-align: left;\n",
       "    }\n",
       "\n",
       "    .dataframe tbody tr th {\n",
       "        vertical-align: top;\n",
       "    }\n",
       "</style>\n",
       "<table border=\"1\" class=\"dataframe\">\n",
       "  <thead>\n",
       "    <tr style=\"text-align: right;\">\n",
       "      <th></th>\n",
       "      <th>cleaned_text</th>\n",
       "      <th>tag</th>\n",
       "    </tr>\n",
       "  </thead>\n",
       "  <tbody>\n",
       "    <tr>\n",
       "      <th>0</th>\n",
       "      <td>awww that's a bummer you shoulda got david car...</td>\n",
       "      <td>0</td>\n",
       "    </tr>\n",
       "    <tr>\n",
       "      <th>1</th>\n",
       "      <td>is upset that he can't update his facebook by ...</td>\n",
       "      <td>0</td>\n",
       "    </tr>\n",
       "    <tr>\n",
       "      <th>2</th>\n",
       "      <td>i dived many times for the ball managed to sav...</td>\n",
       "      <td>0</td>\n",
       "    </tr>\n",
       "    <tr>\n",
       "      <th>3</th>\n",
       "      <td>my whole body feels itchy and like its on fire</td>\n",
       "      <td>0</td>\n",
       "    </tr>\n",
       "    <tr>\n",
       "      <th>4</th>\n",
       "      <td>no it's not behaving at all i'm mad why am i h...</td>\n",
       "      <td>0</td>\n",
       "    </tr>\n",
       "  </tbody>\n",
       "</table>\n",
       "</div>"
      ],
      "text/plain": [
       "                                        cleaned_text  tag\n",
       "0  awww that's a bummer you shoulda got david car...    0\n",
       "1  is upset that he can't update his facebook by ...    0\n",
       "2  i dived many times for the ball managed to sav...    0\n",
       "3     my whole body feels itchy and like its on fire    0\n",
       "4  no it's not behaving at all i'm mad why am i h...    0"
      ]
     },
     "execution_count": 296,
     "metadata": {},
     "output_type": "execute_result"
    }
   ],
   "source": [
    "df_train_clean.head()"
   ]
  },
  {
   "cell_type": "markdown",
   "metadata": {},
   "source": [
    "Check the lens of the tweets and see if there are any anomalies - Added the following: \n",
    "1. Remove characters that are failed to encode: [\\x80-\\xFF] these are non-english characters. \n",
    "2. Remove '..' and '...' as they are not informative in reading the sentiment of a tweet"
   ]
  },
  {
   "cell_type": "code",
   "execution_count": 297,
   "metadata": {
    "collapsed": false
   },
   "outputs": [
    {
     "data": {
      "text/plain": [
       "1"
      ]
     },
     "execution_count": 297,
     "metadata": {},
     "output_type": "execute_result"
    }
   ],
   "source": [
    "long_text_list=[x for x in clean_texts if len(x)>140]\n",
    "len(long_text_list)\n",
    "#long_text_list[275:284]"
   ]
  },
  {
   "cell_type": "code",
   "execution_count": 298,
   "metadata": {
    "collapsed": false
   },
   "outputs": [
    {
     "data": {
      "text/plain": [
       "[u'coke can in car --> 90f --> can burst --> coke all over --> procrastintd cleaning --> thgt will evaporate --> 2 days later --> turned syrupy --> stinks']"
      ]
     },
     "execution_count": 298,
     "metadata": {},
     "output_type": "execute_result"
    }
   ],
   "source": [
    "long_text_list"
   ]
  },
  {
   "cell_type": "code",
   "execution_count": 308,
   "metadata": {
    "collapsed": true
   },
   "outputs": [],
   "source": [
    "df_train_clean['len'] = [len(t) for t in df_train_clean.cleaned_text]"
   ]
  },
  {
   "cell_type": "markdown",
   "metadata": {},
   "source": [
    "Plot distribution of words"
   ]
  },
  {
   "cell_type": "code",
   "execution_count": 302,
   "metadata": {
    "collapsed": false
   },
   "outputs": [
    {
     "data": {
      "image/png": "[encoded data removed]",
      "text/plain": [
       "<matplotlib.figure.Figure at 0x7f4837621210>"
      ]
     },
     "metadata": {},
     "output_type": "display_data"
    }
   ],
   "source": [
    "import matplotlib.pyplot as plt\n",
    "fig, ax = plt.subplots(figsize=(5, 5))\n",
    "plt.boxplot(df_train_clean.len)\n",
    "plt.show()"
   ]
  },
  {
   "cell_type": "markdown",
   "metadata": {},
   "source": [
    "Get Rid of Tweets with no content"
   ]
  },
  {
   "cell_type": "code",
   "execution_count": 304,
   "metadata": {
    "collapsed": false
   },
   "outputs": [
    {
     "data": {
      "text/plain": [
       "3600"
      ]
     },
     "execution_count": 304,
     "metadata": {},
     "output_type": "execute_result"
    }
   ],
   "source": [
    "no_text_list=[x for x in clean_texts if len(x)==0]\n",
    "len(no_text_list)"
   ]
  },
  {
   "cell_type": "code",
   "execution_count": 307,
   "metadata": {
    "collapsed": true
   },
   "outputs": [],
   "source": [
    "df_train_clean2=df_train_clean[df_train_clean.len!=0]\n",
    "df_train_clean2.to_pickle(\"/home/ubuntu/data/train_cleaned.pkl\")"
   ]
  },
  {
   "cell_type": "markdown",
   "metadata": {},
   "source": [
    "# Vectorize tokens - Doc2Vec and Pre-trained GloVe Twitter Embedding"
   ]
  },
  {
   "cell_type": "code",
   "execution_count": 10,
   "metadata": {
    "collapsed": false
   },
   "outputs": [
    {
     "data": {
      "text/html": [
       "<div>\n",
       "<style>\n",
       "    .dataframe thead tr:only-child th {\n",
       "        text-align: right;\n",
       "    }\n",
       "\n",
       "    .dataframe thead th {\n",
       "        text-align: left;\n",
       "    }\n",
       "\n",
       "    .dataframe tbody tr th {\n",
       "        vertical-align: top;\n",
       "    }\n",
       "</style>\n",
       "<table border=\"1\" class=\"dataframe\">\n",
       "  <thead>\n",
       "    <tr style=\"text-align: right;\">\n",
       "      <th></th>\n",
       "      <th>cleaned_text</th>\n",
       "      <th>tag</th>\n",
       "      <th>len</th>\n",
       "    </tr>\n",
       "  </thead>\n",
       "  <tbody>\n",
       "    <tr>\n",
       "      <th>1596395</th>\n",
       "      <td>just woke up having no school is the best feel...</td>\n",
       "      <td>4</td>\n",
       "      <td>54</td>\n",
       "    </tr>\n",
       "    <tr>\n",
       "      <th>1596396</th>\n",
       "      <td>thewdb com very cool to hear old walt intervie...</td>\n",
       "      <td>4</td>\n",
       "      <td>54</td>\n",
       "    </tr>\n",
       "    <tr>\n",
       "      <th>1596397</th>\n",
       "      <td>are you ready for your mojo makeover ask me fo...</td>\n",
       "      <td>4</td>\n",
       "      <td>55</td>\n",
       "    </tr>\n",
       "    <tr>\n",
       "      <th>1596398</th>\n",
       "      <td>happy 38th birthday to my boo of alll time tup...</td>\n",
       "      <td>4</td>\n",
       "      <td>61</td>\n",
       "    </tr>\n",
       "    <tr>\n",
       "      <th>1596399</th>\n",
       "      <td>happy charitytuesday</td>\n",
       "      <td>4</td>\n",
       "      <td>20</td>\n",
       "    </tr>\n",
       "  </tbody>\n",
       "</table>\n",
       "</div>"
      ],
      "text/plain": [
       "                                              cleaned_text  tag  len\n",
       "1596395  just woke up having no school is the best feel...    4   54\n",
       "1596396  thewdb com very cool to hear old walt intervie...    4   54\n",
       "1596397  are you ready for your mojo makeover ask me fo...    4   55\n",
       "1596398  happy 38th birthday to my boo of alll time tup...    4   61\n",
       "1596399                               happy charitytuesday    4   20"
      ]
     },
     "execution_count": 10,
     "metadata": {},
     "output_type": "execute_result"
    }
   ],
   "source": [
    "df_train_cleaned=pd.read_pickle(\"/home/ubuntu/data/train_cleaned.pkl\")\n",
    "df_train_cleaned=df_train_cleaned.reset_index(drop=True)\n",
    "df_train_cleaned.tail()"
   ]
  },
  {
   "cell_type": "code",
   "execution_count": 13,
   "metadata": {
    "collapsed": true
   },
   "outputs": [],
   "source": [
    "from sklearn.model_selection import train_test_split\n",
    "from gensim.models import Word2Vec, Doc2Vec\n",
    "import gensim\n",
    "from sklearn.decomposition import PCA\n",
    "from matplotlib import pyplot\n",
    "import multiprocessing"
   ]
  },
  {
   "cell_type": "markdown",
   "metadata": {},
   "source": [
    "#1. Make Corpus"
   ]
  },
  {
   "cell_type": "markdown",
   "metadata": {},
   "source": [
    "Train Validation Test Split"
   ]
  },
  {
   "cell_type": "code",
   "execution_count": 12,
   "metadata": {
    "collapsed": false
   },
   "outputs": [
    {
     "name": "stdout",
     "output_type": "stream",
     "text": [
      "train, validation, test size: 1277120, 159640, 159640\n",
      "tag distribution on train set: [639355, 637765]\n"
     ]
    }
   ],
   "source": [
    "x_train, x_validation_test, y_train, y_validation_test=train_test_split(df_train_cleaned.cleaned_text, df_train_cleaned.tag, test_size=0.2, random_state=42)\n",
    "x_validation, x_test, y_validation, y_test=train_test_split(x_validation_test, y_validation_test, test_size=0.5,random_state=42)\n",
    "print('train, validation, test size: %d, %d, %d' % (len(x_train), len(x_validation), len(x_test)))\n",
    "print('tag distribution on train set: %s' % Counter(y_train).values())"
   ]
  },
  {
   "cell_type": "code",
   "execution_count": 20,
   "metadata": {
    "collapsed": false
   },
   "outputs": [
    {
     "data": {
      "text/plain": [
       "[79473, 80167]"
      ]
     },
     "execution_count": 20,
     "metadata": {},
     "output_type": "execute_result"
    }
   ],
   "source": [
    "Counter(y_test).values()"
   ]
  },
  {
   "cell_type": "code",
   "execution_count": 51,
   "metadata": {
    "collapsed": true
   },
   "outputs": [],
   "source": [
    "def save_data(save_path, file_name, data):\n",
    "    with open(save_path+file_name,'wb') as f:\n",
    "        pickle.dump(data,f)\n"
   ]
  },
  {
   "cell_type": "code",
   "execution_count": 10,
   "metadata": {
    "collapsed": true
   },
   "outputs": [],
   "source": [
    "all_x=pd.concat([x_train,x_validation, x_test])\n",
    "all_y=pd.concat([y_train,y_validation,y_test])"
   ]
  },
  {
   "cell_type": "markdown",
   "metadata": {},
   "source": [
    "Split words in tweets and label each tweet. words that form one tweet convey a particular semantic meaning. "
   ]
  },
  {
   "cell_type": "code",
   "execution_count": 14,
   "metadata": {
    "collapsed": false
   },
   "outputs": [
    {
     "name": "stdout",
     "output_type": "stream",
     "text": [
      "[TaggedDocument(words=[u'oh', u'didn', u'check', u'twitter', u'it', u'was', u'your', u'birthday', u'rob', u'sorry', u'happy', u'birthdaaay', u'hope', u'you', u'are', u'fit', u'very', u'soon', u'again', u'to', u'win', u'races'], tags=[782531]), TaggedDocument(words=[u'hey', u'you', u'there', u'what', u'up'], tags=[851032]), TaggedDocument(words=[u'listening', u'to', u'david', u'on', u'magic'], tags=[935532]), TaggedDocument(words=[u'it', u'the', u'load', u'with', u'all', u'the', u'boxes', u'of', u'stuff', u'from', u'the', u'attic', u'of', u'all', u'your', u'previous', u'houses'], tags=[830487]), TaggedDocument(words=[u'homeeesie', u'back', u'to', u'being', u'lonely', u'in', u'sd', u'having', u'only', u'my', u'collection', u'of', u'hello', u'kittys', u'to', u'cuddle', u'up', u'with'], tags=[94010]), TaggedDocument(words=[u'eat', u'sleep', u'draw', u'part', u'of', u'my', u'neuroanatomy', u'take', u'home', u'test', u'after', u'this', u'im', u'part', u'of', u'my', u'neuro'], tags=[905841]), TaggedDocument(words=[u'you', u'should', u'have', u'won', u'sexiest', u'vegetarian', u'millo', u'is', u'eww', u'but', u'dont', u'feel', u'disappoint', u'because', u'you', u'are', u'the', u'sexiest', u'for', u'the', u'fans'], tags=[616415]), TaggedDocument(words=[u'already', u'missing', u'and'], tags=[118862]), TaggedDocument(words=[u'hate', u'days', u'like', u'this', u'one', u'minute', u'it', u'rains', u'then', u'the', u'sun', u'is', u'out', u'then', u'it', u'pours', u'rain', u'again', u'vicious', u'circle'], tags=[698396]), TaggedDocument(words=[u'already', u'on', u'ch', u'of', u'the', u'book', u'started', u'so', u'thinking', u'have', u'to', u'finish', u'it', u'by', u'nov', u'so', u'can', u'write', u'another', u'one', u'in', u'nov'], tags=[1235149])]\n"
     ]
    }
   ],
   "source": [
    "corpus=[]\n",
    "for tweet, index in zip(all_x, all_x.index.values):\n",
    "    a=gensim.models.doc2vec.TaggedDocument(gensim.utils.simple_preprocess(tweet),[index])\n",
    "    corpus.append(a)    \n",
    "print(corpus[:10])\n"
   ]
  },
  {
   "cell_type": "code",
   "execution_count": 28,
   "metadata": {
    "collapsed": true
   },
   "outputs": [],
   "source": [
    "with open(data_location + 'tokenized_corpus.pkl', 'wb') as f:\n",
    "    pickle.dump(corpus, f)"
   ]
  },
  {
   "cell_type": "code",
   "execution_count": 11,
   "metadata": {
    "collapsed": true
   },
   "outputs": [],
   "source": [
    "with open(data_location + 'tokenized_corpus.pkl', 'rb') as f:\n",
    "    corpus=pickle.load(f)"
   ]
  },
  {
   "cell_type": "markdown",
   "metadata": {},
   "source": [
    "#2. Build Model and load vectors"
   ]
  },
  {
   "cell_type": "code",
   "execution_count": null,
   "metadata": {
    "collapsed": true
   },
   "outputs": [],
   "source": [
    "model_location=\"/home/ubuntu/model/\"\n",
    "cores = multiprocessing.cpu_count()"
   ]
  },
  {
   "cell_type": "code",
   "execution_count": null,
   "metadata": {
    "collapsed": true
   },
   "outputs": [],
   "source": [
    "embedding_model1=Doc2Vec(dm=0, vector_size=200, negative=5, min_count=2, epochs=20,workers=cores)\n",
    "embedding_model1.build_vocab(corpus)\n",
    "embedding_model1.train(corpus,total_examples=embedding_model1.corpus_count,epochs=embedding_model1.epochs)"
   ]
  },
  {
   "cell_type": "code",
   "execution_count": 17,
   "metadata": {
    "collapsed": true
   },
   "outputs": [],
   "source": [
    "embedding_model1.save(model_location + 'embedding_model1')"
   ]
  },
  {
   "cell_type": "code",
   "execution_count": 15,
   "metadata": {
    "collapsed": true
   },
   "outputs": [],
   "source": [
    "embedding_model1 = Doc2Vec.load(model_location + 'embedding_model1')"
   ]
  },
  {
   "cell_type": "markdown",
   "metadata": {},
   "source": [
    "Check how good the model is doing - find the most , median and least similar tweets. Seems good!"
   ]
  },
  {
   "cell_type": "code",
   "execution_count": 93,
   "metadata": {
    "collapsed": false
   },
   "outputs": [
    {
     "name": "stdout",
     "output_type": "stream",
     "text": [
      "TARGET (930782): «i need more coffee and redbull»\n",
      "\n"
     ]
    }
   ],
   "source": [
    "import random\n",
    "\n",
    "doc_id = np.random.randint(embedding_model1.docvecs.count)  # pick random doc, re-run cell for more examples\n",
    "sims = embedding_model1.docvecs.most_similar(doc_id, topn=embedding_model1.docvecs.count)  # get *all* similar documents\n",
    "print(u'TARGET (%d): «%s»\\n' % (doc_id, ''.join(all_x[doc_id])))"
   ]
  },
  {
   "cell_type": "code",
   "execution_count": 94,
   "metadata": {
    "collapsed": false
   },
   "outputs": [
    {
     "name": "stdout",
     "output_type": "stream",
     "text": [
      "SIMILAR/DISSIMILAR DOCS PER MODEL Doc2Vec(dbow,d200,n5,mc2,s0.001,t4):\n",
      "\n",
      "MOST (347553, 0.9487342834472656): «need more coffee»\n",
      "\n",
      "MEDIAN (695446, 0.38756710290908813): «feeels sick after eating cinema sweet popcorn without the cinema»\n",
      "\n",
      "LEAST (693079, -0.23393338918685913): «7k5»\n",
      "\n"
     ]
    }
   ],
   "source": [
    "print(u'SIMILAR/DISSIMILAR DOCS PER MODEL %s:\\n' % embedding_model1)\n",
    "for label, index in [('MOST', 0), ('MEDIAN', len(sims)//2), ('LEAST', len(sims) - 1)]:\n",
    "    print(u'%s %s: «%s»\\n' % (label, sims[index], ''.join(all_x[sims[index][0]])))"
   ]
  },
  {
   "cell_type": "markdown",
   "metadata": {},
   "source": [
    "#Save train/test/validation data and load"
   ]
  },
  {
   "cell_type": "code",
   "execution_count": null,
   "metadata": {
    "collapsed": true
   },
   "outputs": [],
   "source": [
    "tostore=dict(zip(['X_train', 'X_validation', 'X_test', 'y_train', 'y_validation', 'y_test' ], \n",
    "                 [x_train, x_validation, x_test, y_train, y_validation, y_test]))\n",
    "save_data(data_location,'train_val_test.pkl',tostore)"
   ]
  },
  {
   "cell_type": "code",
   "execution_count": 18,
   "metadata": {
    "collapsed": true
   },
   "outputs": [],
   "source": [
    "def get_vectors(model, data, vector_size):\n",
    "    vecs = np.zeros((len(data), vector_size)) \n",
    "    v=0\n",
    "    for i in data.index:\n",
    "        vecs[v]=model.docvecs[i]\n",
    "        v+=1\n",
    "    return vecs\n",
    "                "
   ]
  },
  {
   "cell_type": "code",
   "execution_count": 26,
   "metadata": {
    "collapsed": true
   },
   "outputs": [],
   "source": [
    "with open (data_location+'train_val_test.pkl', 'rb') as file:\n",
    "    dict_data=pickle.load(file)"
   ]
  },
  {
   "cell_type": "code",
   "execution_count": 27,
   "metadata": {
    "collapsed": true
   },
   "outputs": [],
   "source": [
    "x_train=dict_data['X_train']\n",
    "x_validation=dict_data['X_validation']\n",
    "x_test=dict_data['X_test']\n",
    "y_train=dict_data['y_train']\n",
    "y_validation=dict_data['y_validation']\n",
    "y_test=dict_data['y_test']"
   ]
  },
  {
   "cell_type": "code",
   "execution_count": 19,
   "metadata": {
    "collapsed": false
   },
   "outputs": [
    {
     "name": "stdout",
     "output_type": "stream",
     "text": [
      "CPU times: user 0 ns, sys: 0 ns, total: 0 ns\n",
      "Wall time: 16.9 µs\n"
     ]
    }
   ],
   "source": [
    "%time\n",
    "x_train_v=get_vectors(embedding_model1,x_train,200)\n",
    "x_validation_v=get_vectors(embedding_model1,x_validation,200)\n",
    "x_test_v=get_vectors(embedding_model1,x_test,200)"
   ]
  },
  {
   "cell_type": "code",
   "execution_count": 24,
   "metadata": {
    "collapsed": false
   },
   "outputs": [
    {
     "name": "stdout",
     "output_type": "stream",
     "text": [
      "104193\n"
     ]
    }
   ],
   "source": [
    "vocab_size=len(embedding_model1.wv.vocab)\n",
    "print(vocab_size)"
   ]
  },
  {
   "cell_type": "markdown",
   "metadata": {},
   "source": [
    "#Using Pre-trained Glove embedding"
   ]
  },
  {
   "cell_type": "code",
   "execution_count": 20,
   "metadata": {
    "collapsed": true
   },
   "outputs": [],
   "source": [
    "from sklearn.linear_model import LogisticRegression\n",
    "from sklearn.naive_bayes import MultinomialNB\n",
    "from sklearn.svm import LinearSVC\n",
    "from sklearn.metrics import classification_report"
   ]
  },
  {
   "cell_type": "code",
   "execution_count": 6,
   "metadata": {
    "collapsed": true
   },
   "outputs": [],
   "source": [
    "import gensim.downloader as api\n",
    "glove_twitter = api.load(\"glove-twitter-200\")"
   ]
  },
  {
   "cell_type": "code",
   "execution_count": 9,
   "metadata": {
    "collapsed": true
   },
   "outputs": [],
   "source": [
    "with open(model_location+'glove_embedding.pkl', 'wb') as file:\n",
    "    pickle.dump(glove_twitter, file)"
   ]
  },
  {
   "cell_type": "code",
   "execution_count": 15,
   "metadata": {
    "collapsed": true
   },
   "outputs": [],
   "source": [
    "with open(model_location+'glove_embedding.pkl', 'rb') as file:\n",
    "    glove_twitter=pickle.load(file)"
   ]
  },
  {
   "cell_type": "code",
   "execution_count": 10,
   "metadata": {
    "collapsed": true
   },
   "outputs": [],
   "source": [
    "def get_w2v_general(tweet, size, vectors, aggregation='mean'):\n",
    "    vec = np.zeros(size).reshape((1, size))\n",
    "    count = 0\n",
    "    for word in tweet.split():\n",
    "        try:\n",
    "            vec += vectors[word].reshape((1, size))\n",
    "            count += 1\n",
    "        except KeyError:\n",
    "            continue\n",
    "    if aggregation == 'mean':\n",
    "        if count != 0:\n",
    "            vec /= count\n",
    "        return vec\n",
    "    elif aggregation == 'sum':\n",
    "        return vec"
   ]
  },
  {
   "cell_type": "code",
   "execution_count": 16,
   "metadata": {
    "collapsed": true
   },
   "outputs": [],
   "source": [
    "from sklearn.preprocessing import scale\n",
    "train_vecs_glove_mean = scale(np.concatenate([get_w2v_general(t, 200, glove_twitter,'mean') for t in x_train]))\n",
    "validation_vecs_glove_mean = scale(np.concatenate([get_w2v_general(t, 200, glove_twitter,'mean') for t in x_validation]))"
   ]
  },
  {
   "cell_type": "code",
   "execution_count": 18,
   "metadata": {
    "collapsed": true
   },
   "outputs": [],
   "source": [
    "test_vecs_glove_mean = scale(np.concatenate([get_w2v_general(t, 200, glove_twitter,'mean') for t in x_test]))"
   ]
  },
  {
   "cell_type": "markdown",
   "metadata": {},
   "source": [
    "#Use word-level vectors "
   ]
  },
  {
   "cell_type": "code",
   "execution_count": 28,
   "metadata": {
    "collapsed": true
   },
   "outputs": [],
   "source": [
    "all_x=pd.concat([x_train,x_validation, x_test])\n",
    "all_y=pd.concat([y_train,y_validation,y_test])"
   ]
  },
  {
   "cell_type": "code",
   "execution_count": 32,
   "metadata": {
    "collapsed": true,
    "scrolled": true
   },
   "outputs": [],
   "source": [
    "from keras.preprocessing.text import Tokenizer, text_to_word_sequence\n",
    "from keras.preprocessing.sequence import pad_sequences\n",
    "\n",
    "tokenizer = Tokenizer()\n",
    "tokenizer.fit_on_texts(all_x)\n",
    "data = tokenizer.texts_to_sequences(all_x)"
   ]
  },
  {
   "cell_type": "code",
   "execution_count": 69,
   "metadata": {
    "collapsed": false
   },
   "outputs": [
    {
     "data": {
      "text/plain": [
       "array([[   0,    0,    0,    0,    0,    0,    0,    0,    0,    0,    0,\n",
       "           0,    0,    0,    0,    0,   56,    1, 1098,  673,  156,  116,\n",
       "           8,   25,   52,  302, 1099,  163,  136, 1100,   78,    7,   39,\n",
       "        1101,   92,  164,  130,    2,  226,  674],\n",
       "       [   0,    0,    0,    0,    0,    0,    0,    0,    0,    0,    0,\n",
       "           0,    0,    0,    0,    0,    0,    0,    0,    0,    0,    0,\n",
       "           0,    0,    0,    0,    0,    0,    0,    0,    0,    0,    0,\n",
       "           0,    0,  137,    7,   61,  505,   32],\n",
       "       [   0,    0,    0,    0,    0,    0,    0,    0,    0,    0,    0,\n",
       "           0,    0,    0,    0,    0,    0,    0,    0,    0,    0,    0,\n",
       "           0,    0,    0,    0,    0,    0,    0,    0,    0,    0,    0,\n",
       "         506,    2,  303,   14,  675, 1102,  201],\n",
       "       [   0,    0,    0,    0,    0,    0,    0,    0,    0,    0,    0,\n",
       "           0,    0,    0,    0,    0,    0,    0,    0,    0,    0,    0,\n",
       "           0,   46,    3,  676,   21,   28,    3, 1103,   13,  202,   49,\n",
       "           3, 1104,   13,   28,   52, 1105, 1106],\n",
       "       [   0,    0,    0,    0,    0,    0,    0,    0,    0,    0,    0,\n",
       "           0,    0,    0,    0,    0,    0,    0,    0,    0,    0,    0,\n",
       "        1107,   65,    2,  165, 1108,   10, 1109,  187,  131,    6, 1110,\n",
       "          13,  408, 1111,    2, 1112,   32,   21],\n",
       "       [   0,    0,    0,    0,    0,    0,    0,    0,    0,    0,    0,\n",
       "           0,    0,    0,    0,    0,    0,    0,    0,    0,    0,    0,\n",
       "           0,  188,   96, 1113,  304,   13,    6, 1114,  203,   72,  677,\n",
       "         166,   30,   53,  304,   13,    6, 1115],\n",
       "       [   0,    0,    0,    0,    0,    0,    0,    0,    0,    0,    0,\n",
       "           0,    0,    0,    0,    0,    0,    0,    7,  167,   15,  678,\n",
       "         679, 1116, 1117,    9, 1118,   22,  117,   97, 1119,  256,    7,\n",
       "          39,    3,  679,   11,    3,  680,   79],\n",
       "       [   0,    0,    0,    0,    0,    0,    0,    0,    0,    0,    0,\n",
       "           0,    0,    0,    0,    0,    0,    0,    0,    0,    0,    0,\n",
       "           0,    0,    0,    0,    0,    0,    0,    0,    0,    0,    0,\n",
       "           0,    0,    0,    0,  143,  353,    5],\n",
       "       [   0,    0,    0,    0,    0,    0,    0,    0,    0,    0,    0,\n",
       "           0,    0,    0,    0,    0,    0,    0,    0,    1,  189,  103,\n",
       "          38,   30,   73,  409,    8, 1120,   66,    3,  204,    9,   27,\n",
       "          66,    8, 1121,  305,  130, 1122, 1123],\n",
       "       [   0,    0,    0,    0,    0,    0,    0,    0,    0,    0,    0,\n",
       "           0,   17,  143,   14, 1124,   42,   13,    3,  410,    1,  306,\n",
       "          12,   17,  411,    1,   15,    2,  412,    8,  190,  681,   12,\n",
       "           1,   43,  413,  157,   73,   10,  681]], dtype=int32)"
      ]
     },
     "execution_count": 69,
     "metadata": {},
     "output_type": "execute_result"
    }
   ],
   "source": [
    "#an example of the padded data for illustration\n",
    "tokenizer = Tokenizer()\n",
    "tokenizer.fit_on_texts(all_x[:1000])\n",
    "data = tokenizer.texts_to_sequences(all_x[:1000])\n",
    "padded_data = pad_sequences(data, maxlen=40)\n",
    "padded_data[:10]"
   ]
  },
  {
   "cell_type": "markdown",
   "metadata": {},
   "source": [
    "#check word count distribution"
   ]
  },
  {
   "cell_type": "code",
   "execution_count": 29,
   "metadata": {
    "collapsed": false
   },
   "outputs": [
    {
     "data": {
      "image/png": "[encoded data removed]",
      "text/plain": [
       "<matplotlib.figure.Figure at 0x7fb73c9d22d0>"
      ]
     },
     "metadata": {},
     "output_type": "display_data"
    }
   ],
   "source": [
    "import matplotlib.pyplot as plt\n",
    "word_counts=[]\n",
    "for i in all_x:\n",
    "    word_count=len(i.split())\n",
    "    word_counts.append(word_count)\n",
    "fig, ax = plt.subplots(figsize=(5, 5))\n",
    "plt.boxplot(word_counts)\n",
    "plt.title('Word Count Distribution')\n",
    "plt.show()"
   ]
  },
  {
   "cell_type": "code",
   "execution_count": 64,
   "metadata": {
    "collapsed": false,
    "scrolled": true
   },
   "outputs": [
    {
     "name": "stdout",
     "output_type": "stream",
     "text": [
      "Found 282800 unique tokens.\n"
     ]
    }
   ],
   "source": [
    "from keras.utils.np_utils import to_categorical\n",
    "word_index = tokenizer.word_index\n",
    "print('Found %s unique tokens.' % len(word_index))\n",
    "\n",
    "padded_data = pad_sequences(data, maxlen=40)\n",
    "\n",
    "labels = to_categorical(all_y.replace(4,1),2)\n",
    "\n",
    "# split the data into a training set and a validation set\n",
    "#indices = np.arange(data.shape[0])\n",
    "# indices = np.arange(len(data))\n",
    "# np.random.shuffle(indices)\n",
    "# data = data[indices]\n",
    "# labels = labels[indices]\n",
    "# nb_validation_samples = int(0.8 * data.shape[0])\n",
    "split_idx = int(len(padded_data)*0.8)\n",
    "train_x, val_x = padded_data[:split_idx], padded_data[split_idx:]\n",
    "train_y, val_y = labels[:split_idx], labels[split_idx:]\n",
    "\n",
    "test_idx = int(len(val_x)*0.5)\n",
    "val_x, test_x = val_x[:test_idx], val_x[test_idx:]\n",
    "val_y, test_y = val_y[:test_idx], val_y[test_idx:]"
   ]
  },
  {
   "cell_type": "code",
   "execution_count": 34,
   "metadata": {
    "collapsed": true
   },
   "outputs": [],
   "source": [
    "EMBEDDING_DIM=200\n",
    "embedding_matrix = np.zeros((len(word_index) + 1, EMBEDDING_DIM))\n",
    "#for i, (word, info) in enumerate(embedding_model1.wv.vocab.items()):\n",
    "for word, i in word_index.items():\n",
    "    try:\n",
    "        embedding_vector = glove_twitter.get_vector(word)\n",
    "    except KeyError:\n",
    "        continue        \n",
    "    if embedding_vector is not None:\n",
    "        # words not found in embedding index will be all-zeros.\n",
    "        embedding_matrix[i] = embedding_vector"
   ]
  },
  {
   "cell_type": "code",
   "execution_count": 20,
   "metadata": {
    "collapsed": false
   },
   "outputs": [
    {
     "name": "stdout",
     "output_type": "stream",
     "text": [
      "percentage tokens vectorised, 44.03%\n"
     ]
    }
   ],
   "source": [
    "count=0\n",
    "for i in embedding_matrix:\n",
    "    if np.any(i)==True:\n",
    "        count+=1\n",
    "print('percentage tokens vectorised, {:0.2f}{}'.format(100*float(count)/float(len(word_index)),'%'))"
   ]
  },
  {
   "cell_type": "markdown",
   "metadata": {},
   "source": [
    "#Pre-trained GloVe 200 Logistic Regression "
   ]
  },
  {
   "cell_type": "code",
   "execution_count": 61,
   "metadata": {
    "collapsed": true
   },
   "outputs": [],
   "source": [
    "from sklearn.metrics import roc_curve, auc\n",
    "from copy import deepcopy\n",
    "import numpy as np\n",
    "import pickle\n",
    "from collections import Counter\n",
    "import pandas as pd\n",
    "pd.set_option('display.max_colwidth', -1)\n",
    "from sklearn.feature_extraction.text import TfidfTransformer\n",
    "from sklearn.decomposition import TruncatedSVD\n",
    "from matplotlib import pyplot as plt\n",
    "from contextlib import contextmanager\n",
    "\n",
    "import os\n",
    "from os.path import dirname, realpath\n",
    "import sys\n",
    "\n",
    "# Change to current path\n",
    "# watch for any changes in the sample_models module, and reload it automatically\n",
    "%load_ext autoreload\n",
    "%autoreload 2\n",
    "\n",
    "\n",
    "\n",
    "def plot_roc(fpr, tpr, roc_auc, show_plot =False):\n",
    "    \"\"\"\n",
    "        plot the roc curve with given information\n",
    "\n",
    "        Args:\n",
    "        --------\n",
    "            fpr: false positive rate\n",
    "            tpr: true positive rate\n",
    "            roc_auc: area under the roc curve\n",
    "            show_plot: set to True to show the plot, False to not show the plot\n",
    "\n",
    "        Returns:\n",
    "        --------\n",
    "            Graphic handle, represents the roc curve plot\n",
    "    \"\"\"\n",
    "    plt.figure()\n",
    "    lw = 2\n",
    "    plt.plot(fpr, tpr, color='darkorange',\n",
    "            lw=lw, label='ROC curve (area = %0.2f)' % roc_auc)\n",
    "    plt.plot([0, 1], [0, 1], color='navy', lw=lw, linestyle='--')\n",
    "    plt.xlim([0.0, 1.0])\n",
    "    plt.ylim([0.0, 1.05])\n",
    "    plt.xlabel('False Positive Rate')\n",
    "    plt.ylabel('True Positive Rate')\n",
    "    plt.title('Roc Curve')\n",
    "    plt.legend(loc=\"lower right\")\n",
    "    if show_plot:\n",
    "        plt.show()\n",
    "    return plt.gcf()"
   ]
  },
  {
   "cell_type": "code",
   "execution_count": 102,
   "metadata": {
    "collapsed": false
   },
   "outputs": [
    {
     "name": "stdout",
     "output_type": "stream",
     "text": [
      "0.7614507642194939\n"
     ]
    }
   ],
   "source": [
    "clf = LogisticRegression()\n",
    "clf.fit(train_vecs_glove_mean, y_train.replace(4,1))\n",
    "print clf.score(validation_vecs_glove_mean, y_validation.replace(4,1))"
   ]
  },
  {
   "cell_type": "code",
   "execution_count": 103,
   "metadata": {
    "collapsed": false
   },
   "outputs": [
    {
     "name": "stdout",
     "output_type": "stream",
     "text": [
      "             precision    recall  f1-score   support\n",
      "\n",
      "          0       0.76      0.76      0.76     80040\n",
      "          1       0.76      0.76      0.76     79600\n",
      "\n",
      "avg / total       0.76      0.76      0.76    159640\n",
      "\n"
     ]
    }
   ],
   "source": [
    "y_pred=clf.predict(scale(np.concatenate([get_w2v_general(t, 200, glove_twitter,'mean') for t in x_test])))\n",
    "print(classification_report(y_pred, y_test.replace(4,1)))"
   ]
  },
  {
   "cell_type": "code",
   "execution_count": 104,
   "metadata": {
    "collapsed": false
   },
   "outputs": [
    {
     "data": {
      "image/png": "[encoded data removed]",
      "text/plain": [
       "<matplotlib.figure.Figure at 0x7f1048a7e890>"
      ]
     },
     "execution_count": 104,
     "metadata": {},
     "output_type": "execute_result"
    }
   ],
   "source": [
    "fpr, tpr, thr = roc_curve(y_score=y_pred, y_true=y_test.replace(4,1),pos_label=1)\n",
    "roc_auc = auc(fpr, tpr)\n",
    "plt.cla()\n",
    "plot_roc(fpr=fpr, tpr=tpr, roc_auc=roc_auc)"
   ]
  },
  {
   "cell_type": "code",
   "execution_count": 105,
   "metadata": {
    "collapsed": true
   },
   "outputs": [],
   "source": [
    "log_model_path = '/home/ubuntu/model/logistic_regression.h5'\n",
    "pickle.dump(clf, open(log_model_path, 'wb'))"
   ]
  },
  {
   "cell_type": "markdown",
   "metadata": {},
   "source": [
    "#Doc2Vec logistic Regression and Linear SVM"
   ]
  },
  {
   "cell_type": "code",
   "execution_count": 21,
   "metadata": {
    "collapsed": false
   },
   "outputs": [
    {
     "data": {
      "text/plain": [
       "LogisticRegression(C=1.0, class_weight=None, dual=False, fit_intercept=True,\n",
       "          intercept_scaling=1, max_iter=100, multi_class='ovr', n_jobs=1,\n",
       "          penalty='l2', random_state=None, solver='liblinear', tol=0.0001,\n",
       "          verbose=0, warm_start=False)"
      ]
     },
     "execution_count": 21,
     "metadata": {},
     "output_type": "execute_result"
    }
   ],
   "source": [
    "clf_doc2vec = LogisticRegression()\n",
    "clf_doc2vec.fit(x_train_v, y_train)"
   ]
  },
  {
   "cell_type": "code",
   "execution_count": 22,
   "metadata": {
    "collapsed": false
   },
   "outputs": [
    {
     "name": "stdout",
     "output_type": "stream",
     "text": [
      "0.745107742420446\n",
      "             precision    recall  f1-score   support\n",
      "\n",
      "          0       0.74      0.75      0.74     78472\n",
      "          4       0.75      0.74      0.75     81168\n",
      "\n",
      "avg / total       0.75      0.75      0.75    159640\n",
      "\n"
     ]
    }
   ],
   "source": [
    "print(clf_doc2vec.score(x_validation_v, y_validation))\n",
    "y_pred=clf_doc2vec.predict(x_test_v)\n",
    "print(classification_report(y_pred, y_test))"
   ]
  },
  {
   "cell_type": "code",
   "execution_count": 23,
   "metadata": {
    "collapsed": false
   },
   "outputs": [
    {
     "name": "stdout",
     "output_type": "stream",
     "text": [
      "fit\n",
      "CPU times: user 0 ns, sys: 0 ns, total: 0 ns\n",
      "Wall time: 12.9 µs\n",
      "validate\n",
      "0.7449887246304184\n"
     ]
    }
   ],
   "source": [
    "clf_svm=LinearSVC()\n",
    "print('fit')\n",
    "%time\n",
    "clf_svm.fit(x_train_v, y_train)\n",
    "print('validate')\n",
    "print(clf_svm.score(x_validation_v, y_validation))\n",
    "#y_pred=clf_svm.predict(x_test_v)\n",
    "#print('test',classification_report(y_pred, y_test))"
   ]
  },
  {
   "cell_type": "code",
   "execution_count": 36,
   "metadata": {
    "collapsed": false
   },
   "outputs": [
    {
     "name": "stdout",
     "output_type": "stream",
     "text": [
      "             precision    recall  f1-score   support\n",
      "\n",
      "          0       0.73      0.75      0.74     78219\n",
      "          4       0.75      0.74      0.75     81421\n",
      "\n",
      "avg / total       0.74      0.74      0.74    159640\n",
      "\n"
     ]
    }
   ],
   "source": [
    "y_pred=clf_svm.predict(x_test_v)\n",
    "print(classification_report(y_pred, y_test))"
   ]
  },
  {
   "cell_type": "markdown",
   "metadata": {},
   "source": [
    "# Build Neural Networks "
   ]
  },
  {
   "cell_type": "code",
   "execution_count": 25,
   "metadata": {
    "collapsed": false
   },
   "outputs": [
    {
     "name": "stderr",
     "output_type": "stream",
     "text": [
      "/usr/local/lib/python2.7/dist-packages/h5py/__init__.py:36: FutureWarning: Conversion of the second argument of issubdtype from `float` to `np.floating` is deprecated. In future, it will be treated as `np.float64 == np.dtype(float).type`.\n",
      "  from ._conv import register_converters as _register_converters\n",
      "Using TensorFlow backend.\n"
     ]
    }
   ],
   "source": [
    "from keras import backend as K\n",
    "from keras.models import Model\n",
    "from keras import callbacks\n",
    "from keras.layers import (Conv1D, BatchNormalization, GlobalAveragePooling1D, Dense, Dropout, Input, Flatten,\n",
    "    TimeDistributed, Activation, GRU, LSTM, Embedding)\n",
    "#from gensim.models import Word2Vec\n",
    "from keras.models import Sequential\n",
    "from keras.preprocessing import sequence\n",
    "from keras.utils.np_utils import to_categorical\n",
    "from keras.optimizers import SGD,Adam\n",
    "from keras.callbacks import ModelCheckpoint, EarlyStopping"
   ]
  },
  {
   "cell_type": "markdown",
   "metadata": {},
   "source": [
    "#Pre-Trained GloVe sentene level vector with LSTM"
   ]
  },
  {
   "cell_type": "code",
   "execution_count": 64,
   "metadata": {
    "collapsed": false
   },
   "outputs": [
    {
     "name": "stderr",
     "output_type": "stream",
     "text": [
      "/usr/local/lib/python2.7/dist-packages/ipykernel_launcher.py:3: DeprecationWarning: Call to deprecated `wv` (Attribute will be removed in 4.0.0, use self instead).\n",
      "  This is separate from the ipykernel package so we can avoid doing imports until\n"
     ]
    }
   ],
   "source": [
    "vector_size=200\n",
    "#max_feature=len(embedding_model1.wv.vocab)+1\n",
    "max_feature=len(glove_twitter.wv.vocab)+1\n",
    "lstm_units=128\n",
    "\n",
    "def lstm(max_features, lstm_units, output_dim=2):\n",
    "    model = Sequential()\n",
    "    #model.add(Embedding(max_features, embed_dim))\n",
    "    model.add(LSTM(lstm_units, input_dim=200, return_sequences=False, dropout=0.2))\n",
    "#     model.add(BatchNormalization(axis=-1,\n",
    "#                             momentum=0.99,\n",
    "#                             epsilon=0.001,\n",
    "#                             center=True,\n",
    "#                             scale=True,\n",
    "#                             beta_initializer='zeros',\n",
    "#                             gamma_initializer='ones',\n",
    "#                             moving_mean_initializer='zeros',\n",
    "#                             moving_variance_initializer='ones',\n",
    "#                             beta_regularizer=None,\n",
    "#                             gamma_regularizer=None,\n",
    "#                             beta_constraint=None,\n",
    "#                             gamma_constraint=None))\n",
    "    model.add(Dense(output_dim, activation='sigmoid'))\n",
    "    optimizer=Adam(lr=0.001)\n",
    "    model.compile(loss=\"binary_crossentropy\", optimizer=optimizer, metrics=['accuracy'])\n",
    "    print(model.summary())\n",
    "    return model"
   ]
  },
  {
   "cell_type": "code",
   "execution_count": 65,
   "metadata": {
    "collapsed": false
   },
   "outputs": [
    {
     "name": "stderr",
     "output_type": "stream",
     "text": [
      "/usr/local/lib/python2.7/dist-packages/ipykernel_launcher.py:9: UserWarning: The `input_dim` and `input_length` arguments in recurrent layers are deprecated. Use `input_shape` instead.\n",
      "  if __name__ == '__main__':\n",
      "/usr/local/lib/python2.7/dist-packages/ipykernel_launcher.py:9: UserWarning: Update your `LSTM` call to the Keras 2 API: `LSTM(128, return_sequences=False, dropout=0.2, input_shape=(None, 200...)`\n",
      "  if __name__ == '__main__':\n"
     ]
    },
    {
     "name": "stdout",
     "output_type": "stream",
     "text": [
      "_________________________________________________________________\n",
      "Layer (type)                 Output Shape              Param #   \n",
      "=================================================================\n",
      "lstm_6 (LSTM)                (None, 128)               168448    \n",
      "_________________________________________________________________\n",
      "dense_6 (Dense)              (None, 2)                 258       \n",
      "=================================================================\n",
      "Total params: 168,706\n",
      "Trainable params: 168,706\n",
      "Non-trainable params: 0\n",
      "_________________________________________________________________\n",
      "None\n"
     ]
    }
   ],
   "source": [
    "model=lstm(max_features=max_feature, lstm_units=lstm_units, output_dim=2)"
   ]
  },
  {
   "cell_type": "code",
   "execution_count": 69,
   "metadata": {
    "collapsed": false
   },
   "outputs": [
    {
     "name": "stdout",
     "output_type": "stream",
     "text": [
      "Train on 1277120 samples, validate on 159640 samples\n",
      "Epoch 1/20\n",
      "1277120/1277120 [==============================] - 269s - loss: 0.4622 - acc: 0.7782 - val_loss: 0.4500 - val_acc: 0.7861\n",
      "Epoch 2/20\n",
      "1277120/1277120 [==============================] - 270s - loss: 0.4579 - acc: 0.7806 - val_loss: 0.4490 - val_acc: 0.7865\n",
      "Epoch 3/20\n",
      "1277120/1277120 [==============================] - 270s - loss: 0.4563 - acc: 0.7819 - val_loss: 0.4478 - val_acc: 0.7872\n",
      "Epoch 4/20\n",
      "1277120/1277120 [==============================] - 270s - loss: 0.4547 - acc: 0.7828 - val_loss: 0.4475 - val_acc: 0.7868\n",
      "Epoch 5/20\n",
      "1277120/1277120 [==============================] - 269s - loss: 0.4539 - acc: 0.7831 - val_loss: 0.4474 - val_acc: 0.7874\n",
      "Epoch 6/20\n",
      "1277120/1277120 [==============================] - 268s - loss: 0.4528 - acc: 0.7837 - val_loss: 0.4471 - val_acc: 0.7881\n",
      "Epoch 7/20\n",
      "1277120/1277120 [==============================] - 268s - loss: 0.4524 - acc: 0.7840 - val_loss: 0.4468 - val_acc: 0.7877\n",
      "Epoch 8/20\n",
      "1277120/1277120 [==============================] - 268s - loss: 0.4516 - acc: 0.7845 - val_loss: 0.4461 - val_acc: 0.7885\n",
      "Epoch 9/20\n",
      "1277120/1277120 [==============================] - 268s - loss: 0.4511 - acc: 0.7850 - val_loss: 0.4460 - val_acc: 0.7882\n",
      "Epoch 10/20\n",
      "1277120/1277120 [==============================] - 269s - loss: 0.4508 - acc: 0.7849 - val_loss: 0.4455 - val_acc: 0.7898\n",
      "Epoch 11/20\n",
      "1277120/1277120 [==============================] - 269s - loss: 0.4508 - acc: 0.7847 - val_loss: 0.4462 - val_acc: 0.7881\n",
      "Epoch 12/20\n",
      "1277120/1277120 [==============================] - 269s - loss: 0.4503 - acc: 0.7854 - val_loss: 0.4451 - val_acc: 0.7896\n",
      "Epoch 13/20\n",
      "1277120/1277120 [==============================] - 269s - loss: 0.4499 - acc: 0.7854 - val_loss: 0.4454 - val_acc: 0.7890\n",
      "Epoch 14/20\n",
      "1277120/1277120 [==============================] - 269s - loss: 0.4496 - acc: 0.7853 - val_loss: 0.4451 - val_acc: 0.7885\n",
      "Epoch 15/20\n",
      "1277120/1277120 [==============================] - 269s - loss: 0.4496 - acc: 0.7854 - val_loss: 0.4456 - val_acc: 0.7887\n",
      "Epoch 16/20\n",
      "1277120/1277120 [==============================] - 269s - loss: 0.4490 - acc: 0.7859 - val_loss: 0.4455 - val_acc: 0.7882\n"
     ]
    }
   ],
   "source": [
    "batch_size = 32\n",
    "learning_rate=.01\n",
    "\n",
    "fname = '/home/ubuntu/model/keras-lstm.h5'\n",
    "cbks = [callbacks.ModelCheckpoint(filepath=fname, monitor='val_loss', save_best_only=True),\n",
    "    callbacks.EarlyStopping(monitor='val_loss', patience=2)]\n",
    "\n",
    "hist = model.fit(x=train_vecs_glove_mean.reshape(len(train_vecs_glove_mean),1,200), y=to_categorical(y_train.replace(4,1),2), \n",
    "    batch_size=batch_size, epochs=20,\n",
    "    verbose=1,\n",
    "    callbacks=cbks,\n",
    "#     validation_split=0.8,\n",
    "    validation_data=(validation_vecs_glove_mean.reshape(len(validation_vecs_glove_mean),1,200), to_categorical(y_validation.replace(4,1),2)),\n",
    "    shuffle=True,\n",
    "    class_weight=None,\n",
    "    sample_weight=None)\n",
    "\n",
    "with open('/home/ubuntu/model/lstm.pickle', 'wb') as f:\n",
    "    pickle.dump(hist.history, f)"
   ]
  },
  {
   "cell_type": "code",
   "execution_count": 71,
   "metadata": {
    "collapsed": true
   },
   "outputs": [],
   "source": [
    "y_pred=model.predict(test_vecs_glove_mean.reshape(len(test_vecs_glove_mean),1,200))"
   ]
  },
  {
   "cell_type": "code",
   "execution_count": 91,
   "metadata": {
    "collapsed": true
   },
   "outputs": [],
   "source": [
    "# just pick whichever prob is higher as prediction\n",
    "y_pred_class=(y_pred == y_pred.max(axis=1, keepdims=True)).astype(int)\n",
    "#pred_1_click_train=pred_click_train[:,1]\n",
    "y_pred_class=y_pred_class[:,1]"
   ]
  },
  {
   "cell_type": "code",
   "execution_count": 92,
   "metadata": {
    "collapsed": false
   },
   "outputs": [
    {
     "name": "stdout",
     "output_type": "stream",
     "text": [
      "             precision    recall  f1-score   support\n",
      "\n",
      "          0       0.80      0.78      0.79     81096\n",
      "          1       0.78      0.79      0.79     78544\n",
      "\n",
      "avg / total       0.79      0.79      0.79    159640\n",
      "\n"
     ]
    }
   ],
   "source": [
    "print(classification_report(y_pred_class, y_test.replace(4,1)))"
   ]
  },
  {
   "cell_type": "code",
   "execution_count": 101,
   "metadata": {
    "collapsed": false
   },
   "outputs": [
    {
     "data": {
      "image/png": "[encoded data removed]",
      "text/plain": [
       "<matplotlib.figure.Figure at 0x7f1048e31d50>"
      ]
     },
     "execution_count": 101,
     "metadata": {},
     "output_type": "execute_result"
    }
   ],
   "source": [
    "fpr, tpr, thr = roc_curve(y_score=y_pred_class, y_true=y_test.replace(4,1),pos_label=1)\n",
    "roc_auc = auc(fpr, tpr)\n",
    "plt.cla()\n",
    "plot_roc(fpr=fpr, tpr=tpr, roc_auc=roc_auc)"
   ]
  },
  {
   "cell_type": "markdown",
   "metadata": {},
   "source": [
    "#Pre-trained Glove, word level vector with LSTM"
   ]
  },
  {
   "cell_type": "code",
   "execution_count": 80,
   "metadata": {
    "collapsed": true
   },
   "outputs": [],
   "source": [
    "embed_dim=200\n",
    "#max_feature=len(embedding_model1.wv.vocab)+1\n",
    "max_feature=len(word_index)+1\n",
    "lstm_units=128\n",
    "\n",
    "def lstm(max_features, lstm_units, output_dim=2):\n",
    "    model = Sequential()\n",
    "    model.add(Embedding(max_features, embed_dim, weights=[embedding_matrix], mask_zero=True))\n",
    "    model.add(LSTM(lstm_units, input_shape=(None,200), return_sequences=False, dropout=0.2))\n",
    "    model.add(BatchNormalization(axis=-1,\n",
    "                            momentum=0.99,\n",
    "                            epsilon=0.001,\n",
    "                            center=True,\n",
    "                            scale=True,\n",
    "                            beta_initializer='zeros',\n",
    "                            gamma_initializer='ones',\n",
    "                            moving_mean_initializer='zeros',\n",
    "                            moving_variance_initializer='ones',\n",
    "                            beta_regularizer=None,\n",
    "                            gamma_regularizer=None,\n",
    "                            beta_constraint=None,\n",
    "                            gamma_constraint=None))\n",
    "    model.add(Dense(output_dim, activation='sigmoid'))\n",
    "    optimizer=Adam(lr=0.01)\n",
    "    model.compile(loss=\"binary_crossentropy\", optimizer=optimizer, metrics=['accuracy'])\n",
    "    print(model.summary())\n",
    "    return model"
   ]
  },
  {
   "cell_type": "code",
   "execution_count": 81,
   "metadata": {
    "collapsed": false
   },
   "outputs": [
    {
     "name": "stdout",
     "output_type": "stream",
     "text": [
      "_________________________________________________________________\n",
      "Layer (type)                 Output Shape              Param #   \n",
      "=================================================================\n",
      "embedding_11 (Embedding)     (None, None, 200)         56560200  \n",
      "_________________________________________________________________\n",
      "lstm_11 (LSTM)               (None, 128)               168448    \n",
      "_________________________________________________________________\n",
      "batch_normalization_6 (Batch (None, 128)               512       \n",
      "_________________________________________________________________\n",
      "dense_11 (Dense)             (None, 2)                 258       \n",
      "=================================================================\n",
      "Total params: 56,729,418\n",
      "Trainable params: 56,729,162\n",
      "Non-trainable params: 256\n",
      "_________________________________________________________________\n",
      "None\n"
     ]
    }
   ],
   "source": [
    "model3=lstm(max_features=max_feature, lstm_units=lstm_units, output_dim=2)"
   ]
  },
  {
   "cell_type": "code",
   "execution_count": null,
   "metadata": {
    "collapsed": false,
    "scrolled": true
   },
   "outputs": [
    {
     "name": "stdout",
     "output_type": "stream",
     "text": [
      "Train on 1277120 samples, validate on 159640 samples\n",
      "Epoch 1/20\n",
      "1277120/1277120 [==============================] - 4728s - loss: 0.4385 - acc: 0.7982 - val_loss: 0.4436 - val_acc: 0.7946\n",
      "Epoch 3/20\n",
      "1277120/1277120 [==============================] - 4717s - loss: 0.4375 - acc: 0.7993 - val_loss: 0.4481 - val_acc: 0.7923\n",
      "Epoch 4/20\n",
      "1277120/1277120 [==============================] - 4706s - loss: 0.4370 - acc: 0.8001 - val_loss: 0.4477 - val_acc: 0.7934\n",
      "             precision    recall  f1-score   support\n",
      "\n",
      "          0       0.81      0.78      0.79     82460\n",
      "          1       0.77      0.80      0.79     77180\n",
      "\n",
      "avg / total       0.79      0.79      0.79    159640\n",
      "\n"
     ]
    }
   ],
   "source": [
    "batch_size = 64\n",
    "learning_rate=.01\n",
    "\n",
    "fname = '/home/ubuntu/model/keras-lstm-word_2.h5'\n",
    "cbks = [callbacks.ModelCheckpoint(filepath=fname, monitor='val_loss', save_best_only=True),\n",
    "    callbacks.EarlyStopping(monitor='val_loss', patience=2)]\n",
    "\n",
    "hist = model3.fit(x=train_x, y=train_y, \n",
    "    batch_size=batch_size, epochs=20,\n",
    "    verbose=1,\n",
    "    callbacks=cbks,\n",
    "#     validation_split=0.8,\n",
    "    validation_data=(val_x, val_y),\n",
    "    shuffle=True,\n",
    "    class_weight=None,\n",
    "    sample_weight=None)\n",
    "\n",
    "with open('/home/ubuntu/model/lstm_word_2.pickle', 'wb') as f:\n",
    "    pickle.dump(hist.history, f)\n",
    "\n",
    "y_pred=model3.predict(test_x)\n",
    "# just pick whichever prob is higher as prediction\n",
    "y_pred_class=(y_pred == y_pred.max(axis=1, keepdims=True)).astype(int)\n",
    "#pred_1_click_train=pred_click_train[:,1]\n",
    "y_pred_class=y_pred_class[:,1]\n",
    "print(classification_report(y_pred_class, test_y[:,1]))"
   ]
  },
  {
   "cell_type": "code",
   "execution_count": 83,
   "metadata": {
    "collapsed": false
   },
   "outputs": [
    {
     "data": {
      "image/png": "[encoded data removed]",
      "text/plain": [
       "<matplotlib.figure.Figure at 0x7fdb1fea9550>"
      ]
     },
     "execution_count": 83,
     "metadata": {},
     "output_type": "execute_result"
    }
   ],
   "source": [
    "fpr, tpr, thr = roc_curve(y_score=y_pred_class, y_true=test_y[:,1],pos_label=1)\n",
    "roc_auc = auc(fpr, tpr)\n",
    "plt.cla()\n",
    "plot_roc(fpr=fpr, tpr=tpr, roc_auc=roc_auc)"
   ]
  },
  {
   "cell_type": "markdown",
   "metadata": {},
   "source": [
    "#Doc2Vec with CNN/Simple NN"
   ]
  },
  {
   "cell_type": "code",
   "execution_count": 28,
   "metadata": {
    "collapsed": false
   },
   "outputs": [
    {
     "name": "stdout",
     "output_type": "stream",
     "text": [
      "_________________________________________________________________\n",
      "Layer (type)                 Output Shape              Param #   \n",
      "=================================================================\n",
      "dense_5 (Dense)              (None, 64)                12864     \n",
      "_________________________________________________________________\n",
      "batch_normalization_1 (Batch (None, 64)                256       \n",
      "_________________________________________________________________\n",
      "dropout_3 (Dropout)          (None, 64)                0         \n",
      "_________________________________________________________________\n",
      "dense_6 (Dense)              (None, 64)                4160      \n",
      "_________________________________________________________________\n",
      "batch_normalization_2 (Batch (None, 64)                256       \n",
      "_________________________________________________________________\n",
      "dropout_4 (Dropout)          (None, 64)                0         \n",
      "_________________________________________________________________\n",
      "dense_7 (Dense)              (None, 2)                 130       \n",
      "=================================================================\n",
      "Total params: 17,666\n",
      "Trainable params: 17,410\n",
      "Non-trainable params: 256\n",
      "_________________________________________________________________\n"
     ]
    }
   ],
   "source": [
    "input_dim=200\n",
    "output_dim=2\n",
    "model = Sequential()\n",
    "# model.add(Conv1D(activation=\"relu\", input_shape=(1, input_dim), \n",
    "#                  filters=128, kernel_size=1, padding=\"same\", \n",
    "#                  kernel_initializer=\"lecun_uniform\"))\n",
    "# model.add(BatchNormalization())\n",
    "# model.add(GlobalAveragePooling1D())\n",
    "model.add(Dense(64, input_dim=200, activation='relu'))\n",
    "model.add(BatchNormalization())\n",
    "model.add(Dropout(0.1))\n",
    "model.add(Dense(64, activation='relu'))\n",
    "model.add(BatchNormalization())\n",
    "model.add(Dropout(0.1))\n",
    "model.add(Dense(2, activation='sigmoid'))\n",
    "optimizer=Adam(lr=0.01)\n",
    "model.compile(optimizer=optimizer,\n",
    "              loss='binary_crossentropy',\n",
    "              metrics=['accuracy'])\n",
    "model.summary()"
   ]
  },
  {
   "cell_type": "code",
   "execution_count": null,
   "metadata": {
    "collapsed": false
   },
   "outputs": [
    {
     "name": "stdout",
     "output_type": "stream",
     "text": [
      "Train on 1277120 samples, validate on 159640 samples\n",
      "Epoch 1/20\n",
      "1277056/1277120 [============================>.] - ETA: 0s - loss: 0.5030 - acc: 0.7552Epoch 00000: val_acc improved from -inf to 0.76605, saving model to /home/ubuntu/model/keras-doc2vec.h5\n",
      "1277120/1277120 [==============================] - 138s - loss: 0.5030 - acc: 0.7552 - val_loss: 0.4826 - val_acc: 0.7661\n",
      "Epoch 2/20\n",
      "1276800/1277120 [============================>.] - ETA: 0s - loss: 0.4888 - acc: 0.7637Epoch 00001: val_acc improved from 0.76605 to 0.76995, saving model to /home/ubuntu/model/keras-doc2vec.h5\n",
      "1277120/1277120 [==============================] - 136s - loss: 0.4888 - acc: 0.7637 - val_loss: 0.4784 - val_acc: 0.7700\n",
      "Epoch 3/20\n",
      "1276672/1277120 [============================>.] - ETA: 0s - loss: 0.4842 - acc: 0.7663Epoch 00002: val_acc improved from 0.76995 to 0.77312, saving model to /home/ubuntu/model/keras-doc2vec.h5\n",
      "1277120/1277120 [==============================] - 137s - loss: 0.4842 - acc: 0.7663 - val_loss: 0.4722 - val_acc: 0.7731\n",
      "Epoch 4/20\n",
      "1276800/1277120 [============================>.] - ETA: 0s - loss: 0.4816 - acc: 0.7679Epoch 00003: val_acc improved from 0.77312 to 0.77431, saving model to /home/ubuntu/model/keras-doc2vec.h5\n",
      "1277120/1277120 [==============================] - 137s - loss: 0.4816 - acc: 0.7679 - val_loss: 0.4697 - val_acc: 0.7743\n",
      "Epoch 5/20\n",
      "1276672/1277120 [============================>.] - ETA: 0s - loss: 0.4802 - acc: 0.7688Epoch 00004: val_acc improved from 0.77431 to 0.77477, saving model to /home/ubuntu/model/keras-doc2vec.h5\n",
      "1277120/1277120 [==============================] - 137s - loss: 0.4802 - acc: 0.7688 - val_loss: 0.4682 - val_acc: 0.7748\n",
      "Epoch 6/20\n",
      "1276736/1277120 [============================>.] - ETA: 0s - loss: 0.4786 - acc: 0.7698Epoch 00005: val_acc improved from 0.77477 to 0.77553, saving model to /home/ubuntu/model/keras-doc2vec.h5\n",
      "1277120/1277120 [==============================] - 137s - loss: 0.4786 - acc: 0.7698 - val_loss: 0.4674 - val_acc: 0.7755\n",
      "Epoch 7/20\n",
      "1276736/1277120 [============================>.] - ETA: 0s - loss: 0.4773 - acc: 0.7706Epoch 00006: val_acc improved from 0.77553 to 0.77583, saving model to /home/ubuntu/model/keras-doc2vec.h5\n",
      "1277120/1277120 [==============================] - 137s - loss: 0.4773 - acc: 0.7707 - val_loss: 0.4680 - val_acc: 0.7758\n",
      "Epoch 8/20\n",
      "1276800/1277120 [============================>.] - ETA: 0s - loss: 0.4763 - acc: 0.7710Epoch 00007: val_acc did not improve\n",
      "1277120/1277120 [==============================] - 137s - loss: 0.4763 - acc: 0.7710 - val_loss: 0.4681 - val_acc: 0.7750\n",
      "Epoch 9/20\n",
      "1276608/1277120 [============================>.] - ETA: 0s - loss: 0.4757 - acc: 0.7714Epoch 00008: val_acc did not improve\n",
      "1277120/1277120 [==============================] - 137s - loss: 0.4757 - acc: 0.7715 - val_loss: 0.4662 - val_acc: 0.7758\n",
      "Epoch 10/20\n",
      "1276608/1277120 [============================>.] - ETA: 0s - loss: 0.4752 - acc: 0.7718Epoch 00009: val_acc improved from 0.77583 to 0.77645, saving model to /home/ubuntu/model/keras-doc2vec.h5\n",
      "1277120/1277120 [==============================] - 137s - loss: 0.4752 - acc: 0.7718 - val_loss: 0.4661 - val_acc: 0.7764\n",
      "Epoch 11/20\n",
      "1276864/1277120 [============================>.] - ETA: 0s - loss: 0.4745 - acc: 0.7722Epoch 00010: val_acc improved from 0.77645 to 0.77692, saving model to /home/ubuntu/model/keras-doc2vec.h5\n",
      "1277120/1277120 [==============================] - 137s - loss: 0.4745 - acc: 0.7722 - val_loss: 0.4656 - val_acc: 0.7769\n",
      "Epoch 12/20\n",
      "1276864/1277120 [============================>.] - ETA: 0s - loss: 0.4738 - acc: 0.7724Epoch 00011: val_acc did not improve\n",
      "1277120/1277120 [==============================] - 137s - loss: 0.4738 - acc: 0.7724 - val_loss: 0.4647 - val_acc: 0.7768\n",
      "Epoch 13/20\n",
      "1276864/1277120 [============================>.] - ETA: 0s - loss: 0.4734 - acc: 0.7729Epoch 00012: val_acc did not improve\n",
      "1277120/1277120 [==============================] - 136s - loss: 0.4734 - acc: 0.7729 - val_loss: 0.4648 - val_acc: 0.7761\n",
      "Epoch 14/20\n",
      "1276672/1277120 [============================>.] - ETA: 0s - loss: 0.4733 - acc: 0.7732Epoch 00013: val_acc improved from 0.77692 to 0.77789, saving model to /home/ubuntu/model/keras-doc2vec.h5\n",
      "1277120/1277120 [==============================] - 136s - loss: 0.4733 - acc: 0.7732 - val_loss: 0.4640 - val_acc: 0.7779\n",
      "Epoch 15/20\n",
      "1276608/1277120 [============================>.] - ETA: 0s - loss: 0.4729 - acc: 0.7733Epoch 00014: val_acc did not improve\n",
      "1277120/1277120 [==============================] - 136s - loss: 0.4729 - acc: 0.7733 - val_loss: 0.4661 - val_acc: 0.7762\n",
      "Epoch 16/20\n",
      "1276736/1277120 [============================>.] - ETA: 0s - loss: 0.4724 - acc: 0.7735Epoch 00015: val_acc did not improve\n",
      "1277120/1277120 [==============================] - 136s - loss: 0.4724 - acc: 0.7735 - val_loss: 0.4638 - val_acc: 0.7772\n",
      "Epoch 17/20\n",
      "1276800/1277120 [============================>.] - ETA: 0s - loss: 0.4719 - acc: 0.7736Epoch 00018: val_acc did not improve\n",
      "1277120/1277120 [==============================] - 136s - loss: 0.4719 - acc: 0.7736 - val_loss: 0.4631 - val_acc: 0.7780\n",
      "Epoch 20/20\n",
      "1276800/1277120 [============================>.] - ETA: 0s - loss: 0.4717 - acc: 0.7739Epoch 00019: val_acc did not improve\n",
      "1277120/1277120 [==============================] - 136s - loss: 0.4717 - acc: 0.7739 - val_loss: 0.4634 - val_acc: 0.7783\n"
     ]
    }
   ],
   "source": [
    "#seed=7\n",
    "filepath=fname = '/home/ubuntu/model/keras-doc2vec.h5'\n",
    "checkpoint = ModelCheckpoint(filepath, monitor='val_acc', verbose=1, save_best_only=True, mode='max')\n",
    "early_stop = EarlyStopping(monitor='val_acc', patience=3, mode='max') \n",
    "callbacks_list = [checkpoint, early_stop]\n",
    "#np.random.seed(seed)\n",
    "history = model.fit(x_train_v, to_categorical(y_train.replace(4,1),2), \n",
    "                                batch_size=64, epochs=20,\n",
    "                                #validation_split=0.1,\n",
    "                                validation_data=(x_validation_v, to_categorical(y_validation.replace(4,1),2)),\n",
    "                                shuffle=False,\n",
    "                                #class_weight=self.train_class_weight,\n",
    "                                callbacks=[checkpoint, early_stop],\n",
    "                                verbose=1  # 0 silent, 1 verbose, 2 one log line per epoch\n",
    "                                )"
   ]
  },
  {
   "cell_type": "code",
   "execution_count": 36,
   "metadata": {
    "collapsed": true
   },
   "outputs": [],
   "source": [
    "with open('/home/ubuntu/model/doc2vec.pickle', 'wb') as f:\n",
    "    pickle.dump(history.history, f)"
   ]
  },
  {
   "cell_type": "code",
   "execution_count": 34,
   "metadata": {
    "collapsed": false
   },
   "outputs": [
    {
     "name": "stdout",
     "output_type": "stream",
     "text": [
      "             precision    recall  f1-score   support\n",
      "\n",
      "          0       0.80      0.76      0.78     83157\n",
      "          1       0.76      0.79      0.77     76483\n",
      "\n",
      "avg / total       0.78      0.78      0.78    159640\n",
      "\n"
     ]
    }
   ],
   "source": [
    "y_pred=model.predict(x_test_v)\n",
    "# just pick whichever prob is higher as prediction\n",
    "y_pred_class=(y_pred == y_pred.max(axis=1, keepdims=True)).astype(int)\n",
    "#pred_1_click_train=pred_click_train[:,1]\n",
    "y_pred_class=y_pred_class[:,1]\n",
    "print(classification_report(y_pred_class, y_test.replace(4,1)))\n",
    "#print(Accuracy_score(y_pred_class, y_test))"
   ]
  },
  {
   "cell_type": "code",
   "execution_count": 65,
   "metadata": {
    "collapsed": false
   },
   "outputs": [
    {
     "data": {
      "image/png": "[encoded data removed]",
      "text/plain": [
       "<matplotlib.figure.Figure at 0x7f87b6010790>"
      ]
     },
     "execution_count": 65,
     "metadata": {},
     "output_type": "execute_result"
    },
    {
     "data": {
      "image/png": "[encoded data removed]",
      "text/plain": [
       "<matplotlib.figure.Figure at 0x7f88109e0e10>"
      ]
     },
     "metadata": {},
     "output_type": "display_data"
    },
    {
     "data": {
      "image/png": "[encoded data removed]",
      "text/plain": [
       "<matplotlib.figure.Figure at 0x7f87b6010790>"
      ]
     },
     "metadata": {},
     "output_type": "display_data"
    }
   ],
   "source": [
    "fpr, tpr, thr = roc_curve(y_score=y_pred_class, y_true=y_test.replace(4,1),pos_label=1)\n",
    "roc_auc = auc(fpr, tpr)\n",
    "plt.cla()\n",
    "plot_roc(fpr=fpr, tpr=tpr, roc_auc=roc_auc)"
   ]
  },
  {
   "cell_type": "markdown",
   "metadata": {},
   "source": [
    "#model training and validation loss performance"
   ]
  },
  {
   "cell_type": "code",
   "execution_count": 43,
   "metadata": {
    "collapsed": false
   },
   "outputs": [
    {
     "data": {
      "image/png": "[encoded data removed]",
      "text/plain": [
       "<matplotlib.figure.Figure at 0x7f880c14a110>"
      ]
     },
     "metadata": {},
     "output_type": "display_data"
    }
   ],
   "source": [
    "from glob import glob\n",
    "import numpy as np\n",
    "import seaborn as sns\n",
    "import matplotlib.pyplot as plt\n",
    "%matplotlib inline\n",
    "sns.set_style(style='white')\n",
    "\n",
    "# obtain the paths for the saved model history\n",
    "all_pickles = sorted(glob(\"/home/ubuntu/model/*.pickle\"))\n",
    "\n",
    "# all_pickles.remove('results/model_0.pickle')\n",
    "\n",
    "# extract the name of each model\n",
    "model_names = [item[8:-7] for item in all_pickles]\n",
    "# extract the loss history for each model\n",
    "valid_loss = [pickle.load( open( i, \"rb\" ) )['val_loss'] for i in all_pickles]\n",
    "train_loss = [pickle.load( open( i, \"rb\" ) )['loss'] for i in all_pickles]\n",
    "# save the number of epochs used to train each model\n",
    "num_epochs = [len(valid_loss[i]) for i in range(len(valid_loss))]\n",
    "\n",
    "fig = plt.figure(figsize=(16,5))\n",
    "\n",
    "# plot the training loss vs. epoch for each model\n",
    "ax1 = fig.add_subplot(121)\n",
    "for i in range(len(all_pickles)):\n",
    "    ax1.plot(np.linspace(1, num_epochs[i], num_epochs[i]), \n",
    "            train_loss[i], label=model_names[i])\n",
    "# clean up the plot\n",
    "ax1.legend()  \n",
    "ax1.set_xlim([1, max(num_epochs)])\n",
    "plt.xlabel('Epoch')\n",
    "plt.ylabel('Training Loss')\n",
    "plt.title('Training Loss')\n",
    "\n",
    "plt.semilogy()\n",
    "\n",
    "# plot the validation loss vs. epoch for each model\n",
    "ax2 = fig.add_subplot(122)\n",
    "for i in range(len(all_pickles)):\n",
    "    ax2.plot(np.linspace(1, num_epochs[i], num_epochs[i]), \n",
    "            valid_loss[i], label=model_names[i])\n",
    "# clean up the plot\n",
    "ax2.legend()  \n",
    "ax2.set_xlim([1, max(num_epochs)])\n",
    "plt.xlabel('Epoch')\n",
    "plt.ylabel('Validation Loss')\n",
    "plt.title('Validation Loss')\n",
    "plt.semilogy()\n",
    "plt.show()"
   ]
  },
  {
   "cell_type": "markdown",
   "metadata": {},
   "source": [
    "# Benchmark Model - Tf-Idf vectorisation and Logistics/Linear SVM "
   ]
  },
  {
   "cell_type": "code",
   "execution_count": 17,
   "metadata": {
    "collapsed": true
   },
   "outputs": [],
   "source": [
    "from sklearn.feature_extraction.text import CountVectorizer,TfidfVectorizer\n",
    "from sklearn.linear_model import LogisticRegression\n",
    "from sklearn.pipeline import Pipeline\n",
    "from sklearn.svm import LinearSVC\n",
    "from sklearn.metrics import classification_report\n",
    "from sklearn.decomposition import TruncatedSVD, PCA\n",
    "from sklearn.feature_selection import SelectKBest,chi2\n",
    "from sklearn.model_selection import PredefinedSplit,GridSearchCV\n",
    "import time\n",
    "from scipy.sparse import coo_matrix, vstack"
   ]
  },
  {
   "cell_type": "code",
   "execution_count": 13,
   "metadata": {
    "collapsed": true
   },
   "outputs": [],
   "source": [
    "max_features=len(embedding_model1.wv.vocab)"
   ]
  },
  {
   "cell_type": "code",
   "execution_count": 26,
   "metadata": {
    "collapsed": false
   },
   "outputs": [
    {
     "data": {
      "text/plain": [
       "104193"
      ]
     },
     "execution_count": 26,
     "metadata": {},
     "output_type": "execute_result"
    }
   ],
   "source": [
    "max_features"
   ]
  },
  {
   "cell_type": "code",
   "execution_count": 133,
   "metadata": {
    "collapsed": true
   },
   "outputs": [],
   "source": [
    "def train_test(pipeline, x_train, y_train, x_validation, y_validation, x_test, y_test):\n",
    "    model=pipeline.fit(x_train,y_train)\n",
    "    print(model.score(x_validation, y_validation))\n",
    "    %time\n",
    "    y_pred=model.predict(x_test)\n",
    "    print(classification_report(y_test, y_pred))"
   ]
  },
  {
   "cell_type": "code",
   "execution_count": 30,
   "metadata": {
    "collapsed": false
   },
   "outputs": [
    {
     "name": "stderr",
     "output_type": "stream",
     "text": [
      "/usr/local/lib/python2.7/dist-packages/sklearn/feature_extraction/text.py:1089: FutureWarning: Conversion of the second argument of issubdtype from `float` to `np.floating` is deprecated. In future, it will be treated as `np.float64 == np.dtype(float).type`.\n",
      "  if hasattr(X, 'dtype') and np.issubdtype(X.dtype, np.float):\n"
     ]
    },
    {
     "name": "stdout",
     "output_type": "stream",
     "text": [
      "[LibLinear]0.7041718867451766\n",
      "CPU times: user 0 ns, sys: 0 ns, total: 0 ns\n",
      "Wall time: 9.06 µs\n",
      "             precision    recall  f1-score   support\n",
      "\n",
      "          0       0.69      0.71      0.70     77977\n",
      "          4       0.72      0.70      0.71     81663\n",
      "\n",
      "avg / total       0.70      0.70      0.70    159640\n",
      "\n"
     ]
    }
   ],
   "source": [
    "tfidf_vec = TfidfVectorizer(max_features=max_features,ngram_range=(1, 3))\n",
    "pipeline = Pipeline(steps=[\n",
    "        ('vectorizer', tfidf_vec),\n",
    "        ('dim_red',TruncatedSVD(n_components=200, random_state=42)),\n",
    "        ('classifier', LogisticRegression(verbose=1)),\n",
    "         ])\n",
    "train_test(pipeline, x_train, y_train, x_validation, y_validation, x_test, y_test)"
   ]
  },
  {
   "cell_type": "code",
   "execution_count": 43,
   "metadata": {
    "collapsed": true
   },
   "outputs": [],
   "source": [
    "def tf_idf(x, vector, is_test=False):\n",
    "    if is_test==True:\n",
    "        x_vec=vector.transform(x)\n",
    "    else:\n",
    "        x_vec=vector.fit_transform(x)\n",
    "    return x_vec"
   ]
  },
  {
   "cell_type": "code",
   "execution_count": 116,
   "metadata": {
    "collapsed": true
   },
   "outputs": [],
   "source": [
    "X_=[]\n",
    "for i in range(len(x_train)):\n",
    "    X_.append(x_train.values[i])\n",
    "for t in range(len(x_validation)):\n",
    "    X_.append(x_validation.values[t])"
   ]
  },
  {
   "cell_type": "code",
   "execution_count": 123,
   "metadata": {
    "collapsed": true
   },
   "outputs": [],
   "source": [
    "Y_=[]\n",
    "for i in range(len(y_train)):\n",
    "    Y_.append(y_train.values[i])\n",
    "for t in range(len(y_validation)):\n",
    "    Y_.append(y_validation.values[t])"
   ]
  },
  {
   "cell_type": "code",
   "execution_count": 124,
   "metadata": {
    "collapsed": true,
    "scrolled": true
   },
   "outputs": [],
   "source": [
    "tfidf_vec = TfidfVectorizer(max_features=max_features,ngram_range=(1, 3))\n",
    "X_tfidf=tf_idf(X_, tfidf_vec)"
   ]
  },
  {
   "cell_type": "code",
   "execution_count": 135,
   "metadata": {
    "collapsed": true
   },
   "outputs": [],
   "source": [
    "x_test_tfidf=tf_idf(x_test,tfidf_vec, is_test=True)"
   ]
  },
  {
   "cell_type": "code",
   "execution_count": 126,
   "metadata": {
    "collapsed": false
   },
   "outputs": [
    {
     "name": "stdout",
     "output_type": "stream",
     "text": [
      "Fit data...\n",
      "[LibLinear]"
     ]
    },
    {
     "data": {
      "text/plain": [
       "GridSearchCV(cv=None, error_score='raise',\n",
       "       estimator=Pipeline(memory=None,\n",
       "     steps=[('reduce_dim', TruncatedSVD(algorithm='randomized', n_components=2, n_iter=5,\n",
       "       random_state=None, tol=0.0)), ('classifier', LogisticRegression(C=1.0, class_weight=None, dual=False, fit_intercept=True,\n",
       "          intercept_scaling=1, max_iter=100, multi_class='ovr', n_jobs=1,\n",
       "          penalty='l2', random_state=None, solver='liblinear', tol=0.0001,\n",
       "          verbose=1, warm_start=False))]),\n",
       "       fit_params=None, iid=True, n_jobs=2,\n",
       "       param_grid=[{'reduce_dim': [TruncatedSVD(algorithm='randomized', n_components=200, n_iter=5,\n",
       "       random_state=None, tol=0.0)], 'reduce_dim__n_components': [100, 200]}, {'reduce_dim': [SelectKBest(k=10, score_func=<function chi2 at 0x7feb3dd87cf8>)], 'reduce_dim__k': [100, 200]}],\n",
       "       pre_dispatch='2*n_jobs', refit=True, return_train_score=True,\n",
       "       scoring=None, verbose=0)"
      ]
     },
     "execution_count": 126,
     "metadata": {},
     "output_type": "execute_result"
    }
   ],
   "source": [
    "pipeline = Pipeline(steps=[\n",
    "        ('reduce_dim',TruncatedSVD()),\n",
    "        ('classifier', LogisticRegression(verbose=1)),\n",
    "         ])\n",
    "\n",
    "N_FEATURES_OPTIONS = [100, 200]\n",
    "param_grid = [\n",
    "    {\n",
    "        'reduce_dim': [TruncatedSVD()],\n",
    "        'reduce_dim__n_components': N_FEATURES_OPTIONS,\n",
    "        #'classifier__C': C_OPTIONS\n",
    "    },\n",
    "    {\n",
    "        'reduce_dim': [SelectKBest(chi2)],\n",
    "        'reduce_dim__k': N_FEATURES_OPTIONS,\n",
    "        #'classifier__C': C_OPTIONS\n",
    "    },\n",
    "]\n",
    "reducer_labels = ['TruncatedSVD', 'KBest(chi2)']\n",
    "\n",
    "# train_ind=np.zeros(len(x_train))\n",
    "# val_ind=np.zeros(len(x_validation))\n",
    "# for i in range(len(x_train)):\n",
    "#     train_ind[i] = -1\n",
    "\n",
    "# for i in range(len(x_validation)):\n",
    "#     val_ind[i] = 0\n",
    "\n",
    "# ps = PredefinedSplit(test_fold=np.concatenate((train_ind,val_ind)))\n",
    "#X=vstack([x_train_tfidf,x_validation_tfidf])\n",
    "#Y=np.concatenate([np.array(y_train), np.array(y_validation)])\n",
    "\n",
    "\n",
    "print('Fit data...')\n",
    "grid = GridSearchCV(pipeline, #cv=ps, \n",
    "                    n_jobs=2, param_grid=param_grid)\n",
    "grid.fit(X_tfidf, Y_)"
   ]
  },
  {
   "cell_type": "code",
   "execution_count": 127,
   "metadata": {
    "collapsed": false
   },
   "outputs": [
    {
     "name": "stdout",
     "output_type": "stream",
     "text": [
      "Optimal alpha parameter: {'reduce_dim': TruncatedSVD(algorithm='randomized', n_components=200, n_iter=5,\n",
      "       random_state=None, tol=0.0), 'reduce_dim__n_components': 200}\n",
      "Best score (on validation data): 0.74\n"
     ]
    }
   ],
   "source": [
    "print('Optimal alpha parameter: {:}'.format(grid.best_params_))\n",
    "print('Best score (on validation data): {:0.2f}'.format(grid.best_score_))"
   ]
  },
  {
   "cell_type": "code",
   "execution_count": 136,
   "metadata": {
    "collapsed": false
   },
   "outputs": [
    {
     "name": "stdout",
     "output_type": "stream",
     "text": [
      "             precision    recall  f1-score   support\n",
      "\n",
      "          0       0.74      0.72      0.73     79473\n",
      "          4       0.73      0.75      0.74     80167\n",
      "\n",
      "avg / total       0.74      0.74      0.74    159640\n",
      "\n"
     ]
    }
   ],
   "source": [
    "y_pred=grid.predict(x_test_tfidf)\n",
    "print(classification_report(y_true=y_test, y_pred=y_pred))"
   ]
  },
  {
   "cell_type": "code",
   "execution_count": 137,
   "metadata": {
    "collapsed": true
   },
   "outputs": [],
   "source": [
    "log_model_path = '/home/ubuntu/model/logistic_regression_tfidf.h5'\n",
    "pickle.dump(grid, open(log_model_path, 'wb'))"
   ]
  }
 ],
 "metadata": {
  "kernelspec": {
   "display_name": "Python 3",
   "language": "python",
   "name": "python3"
  },
  "language_info": {
   "codemirror_mode": {
    "name": "ipython",
    "version": 3
   },
   "file_extension": ".py",
   "mimetype": "text/x-python",
   "name": "python",
   "nbconvert_exporter": "python",
   "pygments_lexer": "ipython3",
   "version": "3.6.0"
  }
 },
 "nbformat": 4,
 "nbformat_minor": 2
}
